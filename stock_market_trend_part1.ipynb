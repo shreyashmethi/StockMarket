{
  "nbformat": 4,
  "nbformat_minor": 0,
  "metadata": {
    "colab": {
      "provenance": []
    },
    "kernelspec": {
      "name": "python3",
      "display_name": "Python 3"
    },
    "language_info": {
      "name": "python"
    }
  },
  "cells": [
    {
      "cell_type": "code",
      "execution_count": null,
      "metadata": {
        "colab": {
          "base_uri": "https://localhost:8080/",
          "height": 487
        },
        "id": "7sTKN9cmUW_W",
        "outputId": "7d79e35b-d9b8-43d2-ac54-7a88fdc9204c"
      },
      "outputs": [
        {
          "output_type": "execute_result",
          "data": {
            "text/plain": [
              "            0         1         2         3         4         5         6   \\\n",
              "0    -1.292878 -1.316538 -1.318502 -1.318833  0.453783 -0.626098  2.907426   \n",
              "1    -1.316632 -1.301031 -1.293193 -1.311623 -0.347321 -1.063006  2.713856   \n",
              "2    -1.312094 -1.318543 -1.301190 -1.303064 -0.706061 -1.053089  2.552001   \n",
              "3    -1.303988 -1.320767 -1.300249 -1.310243 -0.492555 -0.967487  2.401708   \n",
              "4    -1.310592 -1.321018 -1.299654 -1.309522  0.188794 -0.363247  2.262150   \n",
              "...        ...       ...       ...       ...       ...       ...       ...   \n",
              "1949  2.193607  2.200674  2.220890  2.222528 -0.458591  0.523854 -0.951965   \n",
              "1950  2.228033  2.228460  2.239520  2.246667 -0.150293  0.633787 -1.016968   \n",
              "1951  2.239770  2.232815  2.234063  2.221117  0.025968  0.646680 -1.067969   \n",
              "1952  2.219208  2.221631  2.228543  2.213060  2.004322  2.732901 -1.105397   \n",
              "1953  2.215546  2.224231  2.246231  2.246166 -0.215900  0.595420 -1.146360   \n",
              "\n",
              "            7         8         9   ...        13        14        15  \\\n",
              "0    -1.841589 -2.680986  2.034078  ...  0.523282  0.914296  0.100178   \n",
              "1    -1.720672 -2.510628  1.916640  ... -0.010105  0.550404  0.245788   \n",
              "2    -1.593824 -2.347272  1.837073  ... -0.295479  0.077950  0.557242   \n",
              "3    -1.492392 -2.194940  1.711782  ... -0.250986 -0.201066  0.431235   \n",
              "4    -1.397663 -2.052859  1.595292  ... -0.204385 -0.271077  0.445396   \n",
              "...        ...       ...       ...  ...       ...       ...       ...   \n",
              "1949  0.473086  0.081009  1.204019  ...  1.297509  1.390569  1.252519   \n",
              "1950  0.610732  0.196504  1.293163  ...  1.321217  1.409179  1.221444   \n",
              "1951  0.662096  0.299862  1.155227  ...  0.885473  1.262278  0.913166   \n",
              "1952  0.677084  0.385746  0.956658  ...  0.194169  0.864677  0.818284   \n",
              "1953  0.738249  0.467507  0.909792  ...  0.063858  0.411574  1.164469   \n",
              "\n",
              "            16        17        18        19        20        21        22  \n",
              "0    -1.322519 -1.308370 -1.292440 -1.229121 -1.222819 -1.312398 -1.052556  \n",
              "1    -1.331601 -1.301526 -1.269584 -1.237366 -1.228465 -1.303846  0.950068  \n",
              "2    -1.331290 -1.299728 -1.266294 -1.245420 -1.233185 -1.311020  0.950068  \n",
              "3    -1.350539 -1.306692 -1.260892 -1.252889 -1.238072 -1.310299 -1.052556  \n",
              "4    -1.362145 -1.310212 -1.256274 -1.260833 -1.242596 -1.271111  0.950068  \n",
              "...        ...       ...       ...       ...       ...       ...       ...  \n",
              "1949  2.170168  2.201920  2.230998  2.150158  2.165956  2.243132  0.950068  \n",
              "1950  2.188007  2.219865  2.249025  2.156667  2.175454  2.217601  0.950068  \n",
              "1951  2.191413  2.223328  2.252541  2.163124  2.182660  2.209551 -1.052556  \n",
              "1952  2.189698  2.227564  2.262758  2.170764  2.188873  2.242631 -1.052556  \n",
              "1953  2.192009  2.238928  2.283212  2.177472  2.196859  2.183018  0.950068  \n",
              "\n",
              "[1954 rows x 23 columns]"
            ],
            "text/html": [
              "\n",
              "  <div id=\"df-d084f33e-c03d-4b45-a0f9-f1c1a1f36633\">\n",
              "    <div class=\"colab-df-container\">\n",
              "      <div>\n",
              "<style scoped>\n",
              "    .dataframe tbody tr th:only-of-type {\n",
              "        vertical-align: middle;\n",
              "    }\n",
              "\n",
              "    .dataframe tbody tr th {\n",
              "        vertical-align: top;\n",
              "    }\n",
              "\n",
              "    .dataframe thead th {\n",
              "        text-align: right;\n",
              "    }\n",
              "</style>\n",
              "<table border=\"1\" class=\"dataframe\">\n",
              "  <thead>\n",
              "    <tr style=\"text-align: right;\">\n",
              "      <th></th>\n",
              "      <th>0</th>\n",
              "      <th>1</th>\n",
              "      <th>2</th>\n",
              "      <th>3</th>\n",
              "      <th>4</th>\n",
              "      <th>5</th>\n",
              "      <th>6</th>\n",
              "      <th>7</th>\n",
              "      <th>8</th>\n",
              "      <th>9</th>\n",
              "      <th>...</th>\n",
              "      <th>13</th>\n",
              "      <th>14</th>\n",
              "      <th>15</th>\n",
              "      <th>16</th>\n",
              "      <th>17</th>\n",
              "      <th>18</th>\n",
              "      <th>19</th>\n",
              "      <th>20</th>\n",
              "      <th>21</th>\n",
              "      <th>22</th>\n",
              "    </tr>\n",
              "  </thead>\n",
              "  <tbody>\n",
              "    <tr>\n",
              "      <th>0</th>\n",
              "      <td>-1.292878</td>\n",
              "      <td>-1.316538</td>\n",
              "      <td>-1.318502</td>\n",
              "      <td>-1.318833</td>\n",
              "      <td>0.453783</td>\n",
              "      <td>-0.626098</td>\n",
              "      <td>2.907426</td>\n",
              "      <td>-1.841589</td>\n",
              "      <td>-2.680986</td>\n",
              "      <td>2.034078</td>\n",
              "      <td>...</td>\n",
              "      <td>0.523282</td>\n",
              "      <td>0.914296</td>\n",
              "      <td>0.100178</td>\n",
              "      <td>-1.322519</td>\n",
              "      <td>-1.308370</td>\n",
              "      <td>-1.292440</td>\n",
              "      <td>-1.229121</td>\n",
              "      <td>-1.222819</td>\n",
              "      <td>-1.312398</td>\n",
              "      <td>-1.052556</td>\n",
              "    </tr>\n",
              "    <tr>\n",
              "      <th>1</th>\n",
              "      <td>-1.316632</td>\n",
              "      <td>-1.301031</td>\n",
              "      <td>-1.293193</td>\n",
              "      <td>-1.311623</td>\n",
              "      <td>-0.347321</td>\n",
              "      <td>-1.063006</td>\n",
              "      <td>2.713856</td>\n",
              "      <td>-1.720672</td>\n",
              "      <td>-2.510628</td>\n",
              "      <td>1.916640</td>\n",
              "      <td>...</td>\n",
              "      <td>-0.010105</td>\n",
              "      <td>0.550404</td>\n",
              "      <td>0.245788</td>\n",
              "      <td>-1.331601</td>\n",
              "      <td>-1.301526</td>\n",
              "      <td>-1.269584</td>\n",
              "      <td>-1.237366</td>\n",
              "      <td>-1.228465</td>\n",
              "      <td>-1.303846</td>\n",
              "      <td>0.950068</td>\n",
              "    </tr>\n",
              "    <tr>\n",
              "      <th>2</th>\n",
              "      <td>-1.312094</td>\n",
              "      <td>-1.318543</td>\n",
              "      <td>-1.301190</td>\n",
              "      <td>-1.303064</td>\n",
              "      <td>-0.706061</td>\n",
              "      <td>-1.053089</td>\n",
              "      <td>2.552001</td>\n",
              "      <td>-1.593824</td>\n",
              "      <td>-2.347272</td>\n",
              "      <td>1.837073</td>\n",
              "      <td>...</td>\n",
              "      <td>-0.295479</td>\n",
              "      <td>0.077950</td>\n",
              "      <td>0.557242</td>\n",
              "      <td>-1.331290</td>\n",
              "      <td>-1.299728</td>\n",
              "      <td>-1.266294</td>\n",
              "      <td>-1.245420</td>\n",
              "      <td>-1.233185</td>\n",
              "      <td>-1.311020</td>\n",
              "      <td>0.950068</td>\n",
              "    </tr>\n",
              "    <tr>\n",
              "      <th>3</th>\n",
              "      <td>-1.303988</td>\n",
              "      <td>-1.320767</td>\n",
              "      <td>-1.300249</td>\n",
              "      <td>-1.310243</td>\n",
              "      <td>-0.492555</td>\n",
              "      <td>-0.967487</td>\n",
              "      <td>2.401708</td>\n",
              "      <td>-1.492392</td>\n",
              "      <td>-2.194940</td>\n",
              "      <td>1.711782</td>\n",
              "      <td>...</td>\n",
              "      <td>-0.250986</td>\n",
              "      <td>-0.201066</td>\n",
              "      <td>0.431235</td>\n",
              "      <td>-1.350539</td>\n",
              "      <td>-1.306692</td>\n",
              "      <td>-1.260892</td>\n",
              "      <td>-1.252889</td>\n",
              "      <td>-1.238072</td>\n",
              "      <td>-1.310299</td>\n",
              "      <td>-1.052556</td>\n",
              "    </tr>\n",
              "    <tr>\n",
              "      <th>4</th>\n",
              "      <td>-1.310592</td>\n",
              "      <td>-1.321018</td>\n",
              "      <td>-1.299654</td>\n",
              "      <td>-1.309522</td>\n",
              "      <td>0.188794</td>\n",
              "      <td>-0.363247</td>\n",
              "      <td>2.262150</td>\n",
              "      <td>-1.397663</td>\n",
              "      <td>-2.052859</td>\n",
              "      <td>1.595292</td>\n",
              "      <td>...</td>\n",
              "      <td>-0.204385</td>\n",
              "      <td>-0.271077</td>\n",
              "      <td>0.445396</td>\n",
              "      <td>-1.362145</td>\n",
              "      <td>-1.310212</td>\n",
              "      <td>-1.256274</td>\n",
              "      <td>-1.260833</td>\n",
              "      <td>-1.242596</td>\n",
              "      <td>-1.271111</td>\n",
              "      <td>0.950068</td>\n",
              "    </tr>\n",
              "    <tr>\n",
              "      <th>...</th>\n",
              "      <td>...</td>\n",
              "      <td>...</td>\n",
              "      <td>...</td>\n",
              "      <td>...</td>\n",
              "      <td>...</td>\n",
              "      <td>...</td>\n",
              "      <td>...</td>\n",
              "      <td>...</td>\n",
              "      <td>...</td>\n",
              "      <td>...</td>\n",
              "      <td>...</td>\n",
              "      <td>...</td>\n",
              "      <td>...</td>\n",
              "      <td>...</td>\n",
              "      <td>...</td>\n",
              "      <td>...</td>\n",
              "      <td>...</td>\n",
              "      <td>...</td>\n",
              "      <td>...</td>\n",
              "      <td>...</td>\n",
              "      <td>...</td>\n",
              "    </tr>\n",
              "    <tr>\n",
              "      <th>1949</th>\n",
              "      <td>2.193607</td>\n",
              "      <td>2.200674</td>\n",
              "      <td>2.220890</td>\n",
              "      <td>2.222528</td>\n",
              "      <td>-0.458591</td>\n",
              "      <td>0.523854</td>\n",
              "      <td>-0.951965</td>\n",
              "      <td>0.473086</td>\n",
              "      <td>0.081009</td>\n",
              "      <td>1.204019</td>\n",
              "      <td>...</td>\n",
              "      <td>1.297509</td>\n",
              "      <td>1.390569</td>\n",
              "      <td>1.252519</td>\n",
              "      <td>2.170168</td>\n",
              "      <td>2.201920</td>\n",
              "      <td>2.230998</td>\n",
              "      <td>2.150158</td>\n",
              "      <td>2.165956</td>\n",
              "      <td>2.243132</td>\n",
              "      <td>0.950068</td>\n",
              "    </tr>\n",
              "    <tr>\n",
              "      <th>1950</th>\n",
              "      <td>2.228033</td>\n",
              "      <td>2.228460</td>\n",
              "      <td>2.239520</td>\n",
              "      <td>2.246667</td>\n",
              "      <td>-0.150293</td>\n",
              "      <td>0.633787</td>\n",
              "      <td>-1.016968</td>\n",
              "      <td>0.610732</td>\n",
              "      <td>0.196504</td>\n",
              "      <td>1.293163</td>\n",
              "      <td>...</td>\n",
              "      <td>1.321217</td>\n",
              "      <td>1.409179</td>\n",
              "      <td>1.221444</td>\n",
              "      <td>2.188007</td>\n",
              "      <td>2.219865</td>\n",
              "      <td>2.249025</td>\n",
              "      <td>2.156667</td>\n",
              "      <td>2.175454</td>\n",
              "      <td>2.217601</td>\n",
              "      <td>0.950068</td>\n",
              "    </tr>\n",
              "    <tr>\n",
              "      <th>1951</th>\n",
              "      <td>2.239770</td>\n",
              "      <td>2.232815</td>\n",
              "      <td>2.234063</td>\n",
              "      <td>2.221117</td>\n",
              "      <td>0.025968</td>\n",
              "      <td>0.646680</td>\n",
              "      <td>-1.067969</td>\n",
              "      <td>0.662096</td>\n",
              "      <td>0.299862</td>\n",
              "      <td>1.155227</td>\n",
              "      <td>...</td>\n",
              "      <td>0.885473</td>\n",
              "      <td>1.262278</td>\n",
              "      <td>0.913166</td>\n",
              "      <td>2.191413</td>\n",
              "      <td>2.223328</td>\n",
              "      <td>2.252541</td>\n",
              "      <td>2.163124</td>\n",
              "      <td>2.182660</td>\n",
              "      <td>2.209551</td>\n",
              "      <td>-1.052556</td>\n",
              "    </tr>\n",
              "    <tr>\n",
              "      <th>1952</th>\n",
              "      <td>2.219208</td>\n",
              "      <td>2.221631</td>\n",
              "      <td>2.228543</td>\n",
              "      <td>2.213060</td>\n",
              "      <td>2.004322</td>\n",
              "      <td>2.732901</td>\n",
              "      <td>-1.105397</td>\n",
              "      <td>0.677084</td>\n",
              "      <td>0.385746</td>\n",
              "      <td>0.956658</td>\n",
              "      <td>...</td>\n",
              "      <td>0.194169</td>\n",
              "      <td>0.864677</td>\n",
              "      <td>0.818284</td>\n",
              "      <td>2.189698</td>\n",
              "      <td>2.227564</td>\n",
              "      <td>2.262758</td>\n",
              "      <td>2.170764</td>\n",
              "      <td>2.188873</td>\n",
              "      <td>2.242631</td>\n",
              "      <td>-1.052556</td>\n",
              "    </tr>\n",
              "    <tr>\n",
              "      <th>1953</th>\n",
              "      <td>2.215546</td>\n",
              "      <td>2.224231</td>\n",
              "      <td>2.246231</td>\n",
              "      <td>2.246166</td>\n",
              "      <td>-0.215900</td>\n",
              "      <td>0.595420</td>\n",
              "      <td>-1.146360</td>\n",
              "      <td>0.738249</td>\n",
              "      <td>0.467507</td>\n",
              "      <td>0.909792</td>\n",
              "      <td>...</td>\n",
              "      <td>0.063858</td>\n",
              "      <td>0.411574</td>\n",
              "      <td>1.164469</td>\n",
              "      <td>2.192009</td>\n",
              "      <td>2.238928</td>\n",
              "      <td>2.283212</td>\n",
              "      <td>2.177472</td>\n",
              "      <td>2.196859</td>\n",
              "      <td>2.183018</td>\n",
              "      <td>0.950068</td>\n",
              "    </tr>\n",
              "  </tbody>\n",
              "</table>\n",
              "<p>1954 rows × 23 columns</p>\n",
              "</div>\n",
              "      <button class=\"colab-df-convert\" onclick=\"convertToInteractive('df-d084f33e-c03d-4b45-a0f9-f1c1a1f36633')\"\n",
              "              title=\"Convert this dataframe to an interactive table.\"\n",
              "              style=\"display:none;\">\n",
              "        \n",
              "  <svg xmlns=\"http://www.w3.org/2000/svg\" height=\"24px\"viewBox=\"0 0 24 24\"\n",
              "       width=\"24px\">\n",
              "    <path d=\"M0 0h24v24H0V0z\" fill=\"none\"/>\n",
              "    <path d=\"M18.56 5.44l.94 2.06.94-2.06 2.06-.94-2.06-.94-.94-2.06-.94 2.06-2.06.94zm-11 1L8.5 8.5l.94-2.06 2.06-.94-2.06-.94L8.5 2.5l-.94 2.06-2.06.94zm10 10l.94 2.06.94-2.06 2.06-.94-2.06-.94-.94-2.06-.94 2.06-2.06.94z\"/><path d=\"M17.41 7.96l-1.37-1.37c-.4-.4-.92-.59-1.43-.59-.52 0-1.04.2-1.43.59L10.3 9.45l-7.72 7.72c-.78.78-.78 2.05 0 2.83L4 21.41c.39.39.9.59 1.41.59.51 0 1.02-.2 1.41-.59l7.78-7.78 2.81-2.81c.8-.78.8-2.07 0-2.86zM5.41 20L4 18.59l7.72-7.72 1.47 1.35L5.41 20z\"/>\n",
              "  </svg>\n",
              "      </button>\n",
              "      \n",
              "  <style>\n",
              "    .colab-df-container {\n",
              "      display:flex;\n",
              "      flex-wrap:wrap;\n",
              "      gap: 12px;\n",
              "    }\n",
              "\n",
              "    .colab-df-convert {\n",
              "      background-color: #E8F0FE;\n",
              "      border: none;\n",
              "      border-radius: 50%;\n",
              "      cursor: pointer;\n",
              "      display: none;\n",
              "      fill: #1967D2;\n",
              "      height: 32px;\n",
              "      padding: 0 0 0 0;\n",
              "      width: 32px;\n",
              "    }\n",
              "\n",
              "    .colab-df-convert:hover {\n",
              "      background-color: #E2EBFA;\n",
              "      box-shadow: 0px 1px 2px rgba(60, 64, 67, 0.3), 0px 1px 3px 1px rgba(60, 64, 67, 0.15);\n",
              "      fill: #174EA6;\n",
              "    }\n",
              "\n",
              "    [theme=dark] .colab-df-convert {\n",
              "      background-color: #3B4455;\n",
              "      fill: #D2E3FC;\n",
              "    }\n",
              "\n",
              "    [theme=dark] .colab-df-convert:hover {\n",
              "      background-color: #434B5C;\n",
              "      box-shadow: 0px 1px 3px 1px rgba(0, 0, 0, 0.15);\n",
              "      filter: drop-shadow(0px 1px 2px rgba(0, 0, 0, 0.3));\n",
              "      fill: #FFFFFF;\n",
              "    }\n",
              "  </style>\n",
              "\n",
              "      <script>\n",
              "        const buttonEl =\n",
              "          document.querySelector('#df-d084f33e-c03d-4b45-a0f9-f1c1a1f36633 button.colab-df-convert');\n",
              "        buttonEl.style.display =\n",
              "          google.colab.kernel.accessAllowed ? 'block' : 'none';\n",
              "\n",
              "        async function convertToInteractive(key) {\n",
              "          const element = document.querySelector('#df-d084f33e-c03d-4b45-a0f9-f1c1a1f36633');\n",
              "          const dataTable =\n",
              "            await google.colab.kernel.invokeFunction('convertToInteractive',\n",
              "                                                     [key], {});\n",
              "          if (!dataTable) return;\n",
              "\n",
              "          const docLinkHtml = 'Like what you see? Visit the ' +\n",
              "            '<a target=\"_blank\" href=https://colab.research.google.com/notebooks/data_table.ipynb>data table notebook</a>'\n",
              "            + ' to learn more about interactive tables.';\n",
              "          element.innerHTML = '';\n",
              "          dataTable['output_type'] = 'display_data';\n",
              "          await google.colab.output.renderOutput(dataTable, element);\n",
              "          const docLink = document.createElement('div');\n",
              "          docLink.innerHTML = docLinkHtml;\n",
              "          element.appendChild(docLink);\n",
              "        }\n",
              "      </script>\n",
              "    </div>\n",
              "  </div>\n",
              "  "
            ]
          },
          "metadata": {},
          "execution_count": 24
        }
      ],
      "source": [
        "import tensorflow as tf\n",
        "import pandas as pd \n",
        "import numpy as np\n",
        "from tensorflow import keras\n",
        "import matplotlib.pyplot as plt\n",
        "%matplotlib inline\n",
        "from sklearn.pipeline import Pipeline\n",
        "from sklearn.preprocessing import StandardScaler\n",
        "from sklearn.svm import LinearSVC\n",
        "from sklearn.model_selection import train_test_split\n",
        "\n",
        "\n",
        "df1 = pd.read_csv(\"/content/drive/MyDrive/train.csv\")\n",
        "df1 = df1.drop(columns = 'Date ID')\n",
        "\n",
        "\n",
        "\n",
        "from sklearn.preprocessing import StandardScaler\n",
        "scaler1 = StandardScaler()\n",
        "df1 = scaler1.fit_transform(df1)\n",
        "\n",
        "\n",
        "\n",
        "\n",
        "df2 = pd.DataFrame(df1)\n",
        "df2"
      ]
    },
    {
      "cell_type": "code",
      "source": [
        "X = df2.drop(columns = 21 )\n",
        "y = df2.iloc[:, 21].values\n",
        "\n",
        "X = np.array(X)\n",
        "X.shape"
      ],
      "metadata": {
        "colab": {
          "base_uri": "https://localhost:8080/"
        },
        "id": "-syL6w9VMS84",
        "outputId": "5601ffca-318f-4262-d962-f3059abc685b"
      },
      "execution_count": null,
      "outputs": [
        {
          "output_type": "execute_result",
          "data": {
            "text/plain": [
              "(1954, 22)"
            ]
          },
          "metadata": {},
          "execution_count": 9
        }
      ]
    },
    {
      "cell_type": "code",
      "source": [
        "\n",
        "\n",
        "\n",
        "\n",
        "X.shape = (1954, 22 , 1)\n",
        "\n",
        "\n",
        "\n",
        "from sklearn.model_selection import train_test_split\n",
        "\n",
        "X_train , X_test ,y_train,  y_test = train_test_split(X , y , test_size = 0.1 , shuffle =False)\n",
        "X.shape"
      ],
      "metadata": {
        "colab": {
          "base_uri": "https://localhost:8080/"
        },
        "id": "EPF93ycJWL4b",
        "outputId": "671233df-65eb-41d7-d203-25dc278acda6"
      },
      "execution_count": null,
      "outputs": [
        {
          "output_type": "execute_result",
          "data": {
            "text/plain": [
              "(1954, 22, 1)"
            ]
          },
          "metadata": {},
          "execution_count": 10
        }
      ]
    },
    {
      "cell_type": "code",
      "source": [
        "\n",
        "\n",
        "plt.plot(y, color = 'black')\n",
        "plt.legend()\n",
        "plt.show()\n"
      ],
      "metadata": {
        "colab": {
          "base_uri": "https://localhost:8080/",
          "height": 282
        },
        "id": "XCb0vXjAYa0X",
        "outputId": "3e9e7ad0-929f-4011-90fc-bc3589be7379"
      },
      "execution_count": null,
      "outputs": [
        {
          "output_type": "stream",
          "name": "stderr",
          "text": [
            "WARNING:matplotlib.legend:No handles with labels found to put in legend.\n"
          ]
        },
        {
          "output_type": "display_data",
          "data": {
            "text/plain": [
              "<Figure size 432x288 with 1 Axes>"
            ],
            "image/png": "[encoded data removed]"
          },
          "metadata": {
            "needs_background": "light"
          }
        }
      ]
    },
    {
      "cell_type": "code",
      "source": [
        "from keras import Sequential\n",
        "from keras.layers import LSTM , Dense ,Dropout\n",
        "\n",
        "\n",
        "regg = Sequential([\n",
        "    keras.layers.Bidirectional(LSTM(32 , activation ='tanh', input_shape=(21 ,1), return_sequences = True)),\n",
        "    keras.layers.Dropout(0.3),\n",
        "    keras.layers.Bidirectional(LSTM(16 , activation ='tanh', return_sequences = True)),\n",
        "    keras.layers.Dropout(0.3),\n",
        "    keras.layers.Bidirectional(LSTM(8 , activation ='tanh' , return_sequences = True)),\n",
        "    keras.layers.Dense(1 , activation ='linear')\n",
        "])\n",
        "\n",
        "regg.compile (\n",
        "    optimizer = 'adam',\n",
        "    loss = 'mean_squared_error'\n",
        ")\n",
        "\n",
        "regg.fit(X,y, epochs = 18)"
      ],
      "metadata": {
        "colab": {
          "base_uri": "https://localhost:8080/"
        },
        "id": "wlKTdsFRZ4A2",
        "outputId": "a96e573e-409a-4487-b165-a56aa3f9572e"
      },
      "execution_count": null,
      "outputs": [
        {
          "output_type": "stream",
          "name": "stdout",
          "text": [
            "Epoch 1/18\n",
            "62/62 [==============================] - 15s 41ms/step - loss: 1.0009\n",
            "Epoch 2/18\n",
            "62/62 [==============================] - 3s 44ms/step - loss: 1.0019\n",
            "Epoch 3/18\n",
            "62/62 [==============================] - 3s 40ms/step - loss: 0.9996\n",
            "Epoch 4/18\n",
            "62/62 [==============================] - 3s 41ms/step - loss: 1.0005\n",
            "Epoch 5/18\n",
            "62/62 [==============================] - 3s 41ms/step - loss: 1.0007\n",
            "Epoch 6/18\n",
            "62/62 [==============================] - 3s 41ms/step - loss: 0.9999\n",
            "Epoch 7/18\n",
            "62/62 [==============================] - 3s 41ms/step - loss: 0.9999\n",
            "Epoch 8/18\n",
            "62/62 [==============================] - 3s 41ms/step - loss: 1.0000\n",
            "Epoch 9/18\n",
            "62/62 [==============================] - 3s 41ms/step - loss: 1.0001\n",
            "Epoch 10/18\n",
            "62/62 [==============================] - 3s 41ms/step - loss: 1.0002\n",
            "Epoch 11/18\n",
            "62/62 [==============================] - 3s 40ms/step - loss: 0.9997\n",
            "Epoch 12/18\n",
            "62/62 [==============================] - 3s 52ms/step - loss: 0.9999\n",
            "Epoch 13/18\n",
            "62/62 [==============================] - 3s 43ms/step - loss: 1.0000\n",
            "Epoch 14/18\n",
            "62/62 [==============================] - 3s 41ms/step - loss: 1.0003\n",
            "Epoch 15/18\n",
            "62/62 [==============================] - 3s 43ms/step - loss: 0.9995\n",
            "Epoch 16/18\n",
            "62/62 [==============================] - 3s 41ms/step - loss: 1.0011\n",
            "Epoch 17/18\n",
            "62/62 [==============================] - 3s 52ms/step - loss: 1.0003\n",
            "Epoch 18/18\n",
            "62/62 [==============================] - 7s 111ms/step - loss: 1.0003\n"
          ]
        },
        {
          "output_type": "execute_result",
          "data": {
            "text/plain": [
              "<keras.callbacks.History at 0x7ff9834cbfd0>"
            ]
          },
          "metadata": {},
          "execution_count": 12
        }
      ]
    },
    {
      "cell_type": "code",
      "source": [
        "y_pred = regg.predict(X_test)\n",
        "y_pred.shape = (196, 22)"
      ],
      "metadata": {
        "colab": {
          "base_uri": "https://localhost:8080/"
        },
        "id": "R0JsehurNC5a",
        "outputId": "f75b7ebe-e3ad-4262-a48f-a7dfb3d30739"
      },
      "execution_count": null,
      "outputs": [
        {
          "output_type": "stream",
          "name": "stdout",
          "text": [
            "7/7 [==============================] - 0s 11ms/step\n"
          ]
        }
      ]
    },
    {
      "cell_type": "code",
      "source": [
        "from sklearn.metrics import mean_absolute_error\n",
        "\n",
        "plt.plot(y_test, color = 'black')\n",
        "plt.plot(y_pred, color = 'red')\n",
        "\n",
        "plt.legend()\n",
        "plt.show()\n",
        "mean_absolute_error(y_test,y_pred)"
      ],
      "metadata": {
        "colab": {
          "base_uri": "https://localhost:8080/",
          "height": 611
        },
        "id": "9sMvlnnfispo",
        "outputId": "bf787e30-9cd6-48f9-8e9d-6c84112a5f2e"
      },
      "execution_count": null,
      "outputs": [
        {
          "output_type": "stream",
          "name": "stderr",
          "text": [
            "WARNING:matplotlib.legend:No handles with labels found to put in legend.\n"
          ]
        },
        {
          "output_type": "display_data",
          "data": {
            "text/plain": [
              "<Figure size 432x288 with 1 Axes>"
            ],
            "image/png": "[encoded data removed]"
          },
          "metadata": {
            "needs_background": "light"
          }
        },
        {
          "output_type": "error",
          "ename": "ValueError",
          "evalue": "ignored",
          "traceback": [
            "\u001b[0;31m---------------------------------------------------------------------------\u001b[0m",
            "\u001b[0;31mValueError\u001b[0m                                Traceback (most recent call last)",
            "\u001b[0;32m<ipython-input-20-0c91397e36c7>\u001b[0m in \u001b[0;36m<module>\u001b[0;34m\u001b[0m\n\u001b[1;32m      6\u001b[0m \u001b[0mplt\u001b[0m\u001b[0;34m.\u001b[0m\u001b[0mlegend\u001b[0m\u001b[0;34m(\u001b[0m\u001b[0;34m)\u001b[0m\u001b[0;34m\u001b[0m\u001b[0;34m\u001b[0m\u001b[0m\n\u001b[1;32m      7\u001b[0m \u001b[0mplt\u001b[0m\u001b[0;34m.\u001b[0m\u001b[0mshow\u001b[0m\u001b[0;34m(\u001b[0m\u001b[0;34m)\u001b[0m\u001b[0;34m\u001b[0m\u001b[0;34m\u001b[0m\u001b[0m\n\u001b[0;32m----> 8\u001b[0;31m \u001b[0mmean_absolute_error\u001b[0m\u001b[0;34m(\u001b[0m\u001b[0my_test\u001b[0m\u001b[0;34m,\u001b[0m\u001b[0my_pred\u001b[0m\u001b[0;34m)\u001b[0m\u001b[0;34m\u001b[0m\u001b[0;34m\u001b[0m\u001b[0m\n\u001b[0m",
            "\u001b[0;32m/usr/local/lib/python3.8/dist-packages/sklearn/metrics/_regression.py\u001b[0m in \u001b[0;36mmean_absolute_error\u001b[0;34m(y_true, y_pred, sample_weight, multioutput)\u001b[0m\n\u001b[1;32m    189\u001b[0m     \u001b[0;36m0.85\u001b[0m\u001b[0;34m...\u001b[0m\u001b[0;34m\u001b[0m\u001b[0;34m\u001b[0m\u001b[0m\n\u001b[1;32m    190\u001b[0m     \"\"\"\n\u001b[0;32m--> 191\u001b[0;31m     y_type, y_true, y_pred, multioutput = _check_reg_targets(\n\u001b[0m\u001b[1;32m    192\u001b[0m         \u001b[0my_true\u001b[0m\u001b[0;34m,\u001b[0m \u001b[0my_pred\u001b[0m\u001b[0;34m,\u001b[0m \u001b[0mmultioutput\u001b[0m\u001b[0;34m\u001b[0m\u001b[0;34m\u001b[0m\u001b[0m\n\u001b[1;32m    193\u001b[0m     )\n",
            "\u001b[0;32m/usr/local/lib/python3.8/dist-packages/sklearn/metrics/_regression.py\u001b[0m in \u001b[0;36m_check_reg_targets\u001b[0;34m(y_true, y_pred, multioutput, dtype)\u001b[0m\n\u001b[1;32m    103\u001b[0m \u001b[0;34m\u001b[0m\u001b[0m\n\u001b[1;32m    104\u001b[0m     \u001b[0;32mif\u001b[0m \u001b[0my_true\u001b[0m\u001b[0;34m.\u001b[0m\u001b[0mshape\u001b[0m\u001b[0;34m[\u001b[0m\u001b[0;36m1\u001b[0m\u001b[0;34m]\u001b[0m \u001b[0;34m!=\u001b[0m \u001b[0my_pred\u001b[0m\u001b[0;34m.\u001b[0m\u001b[0mshape\u001b[0m\u001b[0;34m[\u001b[0m\u001b[0;36m1\u001b[0m\u001b[0;34m]\u001b[0m\u001b[0;34m:\u001b[0m\u001b[0;34m\u001b[0m\u001b[0;34m\u001b[0m\u001b[0m\n\u001b[0;32m--> 105\u001b[0;31m         raise ValueError(\n\u001b[0m\u001b[1;32m    106\u001b[0m             \"y_true and y_pred have different number of output ({0}!={1})\".format(\n\u001b[1;32m    107\u001b[0m                 \u001b[0my_true\u001b[0m\u001b[0;34m.\u001b[0m\u001b[0mshape\u001b[0m\u001b[0;34m[\u001b[0m\u001b[0;36m1\u001b[0m\u001b[0;34m]\u001b[0m\u001b[0;34m,\u001b[0m \u001b[0my_pred\u001b[0m\u001b[0;34m.\u001b[0m\u001b[0mshape\u001b[0m\u001b[0;34m[\u001b[0m\u001b[0;36m1\u001b[0m\u001b[0;34m]\u001b[0m\u001b[0;34m\u001b[0m\u001b[0;34m\u001b[0m\u001b[0m\n",
            "\u001b[0;31mValueError\u001b[0m: y_true and y_pred have different number of output (1!=22)"
          ]
        }
      ]
    },
    {
      "cell_type": "code",
      "source": [
        "df_1 = df1\n",
        "date_id = df_1['Date ID']\n",
        "df_1 = df_1.drop(columns = 'Date ID')\n",
        "from sklearn.preprocessing import StandardScaler\n",
        "scaler2 = StandardScaler()\n",
        "df_1 = scaler2.fit_transform(df_1)\n",
        "df_2 = pd.DataFrame(df_1)\n",
        "\n",
        "pred_list_val = regg.predict(df_2)\n",
        "pred_list_val = np.array(pred_list_val)\n",
        "pred_list_val = pred_list_val.flatten()\n",
        "pred_list_val = pred_list_val.astype(str)\n",
        "pred_list_val"
      ],
      "metadata": {
        "colab": {
          "base_uri": "https://localhost:8080/",
          "height": 235
        },
        "id": "xId0Liv-jNkz",
        "outputId": "4c17b200-8788-42eb-b1f2-c6bf8ec2ca56"
      },
      "execution_count": null,
      "outputs": [
        {
          "output_type": "error",
          "ename": "IndexError",
          "evalue": "ignored",
          "traceback": [
            "\u001b[0;31m---------------------------------------------------------------------------\u001b[0m",
            "\u001b[0;31mIndexError\u001b[0m                                Traceback (most recent call last)",
            "\u001b[0;32m<ipython-input-26-dc42d2c43130>\u001b[0m in \u001b[0;36m<module>\u001b[0;34m\u001b[0m\n\u001b[1;32m      1\u001b[0m \u001b[0mdf_1\u001b[0m \u001b[0;34m=\u001b[0m \u001b[0mdf1\u001b[0m\u001b[0;34m\u001b[0m\u001b[0;34m\u001b[0m\u001b[0m\n\u001b[0;32m----> 2\u001b[0;31m \u001b[0mdate_id\u001b[0m \u001b[0;34m=\u001b[0m \u001b[0mdf_1\u001b[0m\u001b[0;34m[\u001b[0m\u001b[0;34m'Date ID'\u001b[0m\u001b[0;34m]\u001b[0m\u001b[0;34m\u001b[0m\u001b[0;34m\u001b[0m\u001b[0m\n\u001b[0m\u001b[1;32m      3\u001b[0m \u001b[0mdf_1\u001b[0m \u001b[0;34m=\u001b[0m \u001b[0mdf_1\u001b[0m\u001b[0;34m.\u001b[0m\u001b[0mdrop\u001b[0m\u001b[0;34m(\u001b[0m\u001b[0mcolumns\u001b[0m \u001b[0;34m=\u001b[0m \u001b[0;34m'Date ID'\u001b[0m\u001b[0;34m)\u001b[0m\u001b[0;34m\u001b[0m\u001b[0;34m\u001b[0m\u001b[0m\n\u001b[1;32m      4\u001b[0m \u001b[0;32mfrom\u001b[0m \u001b[0msklearn\u001b[0m\u001b[0;34m.\u001b[0m\u001b[0mpreprocessing\u001b[0m \u001b[0;32mimport\u001b[0m \u001b[0mStandardScaler\u001b[0m\u001b[0;34m\u001b[0m\u001b[0;34m\u001b[0m\u001b[0m\n\u001b[1;32m      5\u001b[0m \u001b[0mscaler2\u001b[0m \u001b[0;34m=\u001b[0m \u001b[0mStandardScaler\u001b[0m\u001b[0;34m(\u001b[0m\u001b[0;34m)\u001b[0m\u001b[0;34m\u001b[0m\u001b[0;34m\u001b[0m\u001b[0m\n",
            "\u001b[0;31mIndexError\u001b[0m: only integers, slices (`:`), ellipsis (`...`), numpy.newaxis (`None`) and integer or boolean arrays are valid indices"
          ]
        }
      ]
    },
    {
      "cell_type": "code",
      "source": [
        "pred_list_val_df = pd.DataFrame({'Date ID' : date_id, \n",
        "                                 'Predicted' : pred_list_val})\n",
        "from pathlib import Path  \n",
        "filepath = Path('/content/out.csv')  \n",
        "filepath.parent.mkdir(parents=True, exist_ok=True)  \n",
        "pred_list_val_df.to_csv(filepath , index=False)\n",
        "pred_list_val_df.dtypes"
      ],
      "metadata": {
        "colab": {
          "base_uri": "https://localhost:8080/"
        },
        "id": "iTuLpLkYTKVq",
        "outputId": "5bdaf852-239b-4284-93d0-cd82a637522c"
      },
      "execution_count": null,
      "outputs": [
        {
          "output_type": "execute_result",
          "data": {
            "text/plain": [
              "Date ID       int64\n",
              "Predicted    object\n",
              "dtype: object"
            ]
          },
          "metadata": {},
          "execution_count": 78
        }
      ]
    },
    {
      "cell_type": "code",
      "source": [],
      "metadata": {
        "id": "u5FvldYjIy-o"
      },
      "execution_count": null,
      "outputs": []
    }
  ]
}